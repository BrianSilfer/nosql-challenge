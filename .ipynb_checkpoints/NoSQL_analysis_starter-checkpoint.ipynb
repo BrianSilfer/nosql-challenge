{
 "cells": [
  {
   "cell_type": "markdown",
   "id": "9a57c4c6",
   "metadata": {},
   "source": [
    "# Eat Safe, Love"
   ]
  },
  {
   "cell_type": "markdown",
   "id": "064ef857",
   "metadata": {},
   "source": [
    "## Notebook Set Up"
   ]
  },
  {
   "cell_type": "code",
   "execution_count": 98,
   "id": "3ecdd008",
   "metadata": {},
   "outputs": [],
   "source": [
    "# Import dependencies\n",
    "from pymongo import MongoClient\n",
    "from pprint import pprint\n",
    "import pandas as pd"
   ]
  },
  {
   "cell_type": "code",
   "execution_count": 99,
   "id": "59390c4a",
   "metadata": {},
   "outputs": [],
   "source": [
    "# Create an instance of MongoClient\n",
    "mongo = MongoClient(port=27017)"
   ]
  },
  {
   "cell_type": "code",
   "execution_count": 100,
   "id": "71e373c1",
   "metadata": {},
   "outputs": [],
   "source": [
    "# assign the uk_food database to a variable name\n",
    "db = mongo['uk_food']"
   ]
  },
  {
   "cell_type": "code",
   "execution_count": 101,
   "id": "18ab463c",
   "metadata": {},
   "outputs": [
    {
     "name": "stdout",
     "output_type": "stream",
     "text": [
      "['establishments']\n"
     ]
    }
   ],
   "source": [
    "# review the collections in our database\n",
    "print(db.list_collection_names())"
   ]
  },
  {
   "cell_type": "code",
   "execution_count": 102,
   "id": "11c9f11b",
   "metadata": {},
   "outputs": [],
   "source": [
    "# assign the collection to a variable\n",
    "establishments = db['establishments']"
   ]
  },
  {
   "cell_type": "markdown",
   "id": "d5671434",
   "metadata": {},
   "source": [
    "## Part 3: Exploratory Analysis\n",
    "Unless otherwise stated, for each question: \n",
    "* Use `count_documents` to display the number of documents contained in the result.\n",
    "* Display the first document in the results using `pprint`.\n",
    "* Convert the result to a Pandas DataFrame, print the number of rows in the DataFrame, and display the first 10 rows."
   ]
  },
  {
   "cell_type": "markdown",
   "id": "314bd884",
   "metadata": {},
   "source": [
    "### 1. Which establishments have a hygiene score equal to 20?"
   ]
  },
  {
   "cell_type": "code",
   "execution_count": 103,
   "id": "c2da7648",
   "metadata": {},
   "outputs": [
    {
     "name": "stdout",
     "output_type": "stream",
     "text": [
      "There are 41 establishments with a hygiene score of 20\n",
      "------------------------------------------------------------\n",
      "{'AddressLine1': '5-6 Southfields Road',\n",
      " 'AddressLine2': 'Eastbourne',\n",
      " 'AddressLine3': 'East Sussex',\n",
      " 'AddressLine4': '',\n",
      " 'BusinessName': 'The Chase Rest Home',\n",
      " 'BusinessType': 'Caring Premises',\n",
      " 'BusinessTypeID': 5,\n",
      " 'ChangesByServerID': 0,\n",
      " 'Distance': 4613.888288172291,\n",
      " 'FHRSID': 110681,\n",
      " 'LocalAuthorityBusinessID': '4029',\n",
      " 'LocalAuthorityCode': '102',\n",
      " 'LocalAuthorityEmailAddress': 'Customerfirst@eastbourne.gov.uk',\n",
      " 'LocalAuthorityName': 'Eastbourne',\n",
      " 'LocalAuthorityWebSite': 'http://www.eastbourne.gov.uk/foodratings',\n",
      " 'NewRatingPending': False,\n",
      " 'Phone': '',\n",
      " 'PostCode': 'BN21 1BU',\n",
      " 'RatingDate': '2021-09-23T00:00:00',\n",
      " 'RatingKey': 'fhrs_0_en-gb',\n",
      " 'RatingValue': 0,\n",
      " 'RightToReply': '',\n",
      " 'SchemeType': 'FHRS',\n",
      " '_id': ObjectId('64979bb5667ad5b134bd871f'),\n",
      " 'geocode': {'latitude': 50.769705, 'longitude': 0.27694},\n",
      " 'links': [{'href': 'https://api.ratings.food.gov.uk/establishments/110681',\n",
      "            'rel': 'self'}],\n",
      " 'meta': {'dataSource': None,\n",
      "          'extractDate': '0001-01-01T00:00:00',\n",
      "          'itemCount': 0,\n",
      "          'pageNumber': 0,\n",
      "          'pageSize': 0,\n",
      "          'returncode': None,\n",
      "          'totalCount': 0,\n",
      "          'totalPages': 0},\n",
      " 'scores': {'ConfidenceInManagement': 20, 'Hygiene': 20, 'Structural': 20}}\n"
     ]
    }
   ],
   "source": [
    "# Find the establishments with a hygiene score of 20\n",
    "query = {'scores.Hygiene': 20}\n",
    "\n",
    "# Use count_documents to display the number of documents in the result\n",
    "results = establishments.find(query)\n",
    "print(f'There are {db.establishments.count_documents(query)} establishments with a hygiene score of 20')\n",
    "\n",
    "print('------------------------------------------------------------')\n",
    "# Display the first document in the results using pprint\n",
    "\n",
    "pprint(results[0])\n",
    "    \n"
   ]
  },
  {
   "cell_type": "code",
   "execution_count": 104,
   "id": "a6e5cece",
   "metadata": {},
   "outputs": [
    {
     "name": "stdout",
     "output_type": "stream",
     "text": [
      "There are 28 rows in the DataFrame\n",
      "------------------------------------------------------\n"
     ]
    },
    {
     "data": {
      "text/html": [
       "<div>\n",
       "<style scoped>\n",
       "    .dataframe tbody tr th:only-of-type {\n",
       "        vertical-align: middle;\n",
       "    }\n",
       "\n",
       "    .dataframe tbody tr th {\n",
       "        vertical-align: top;\n",
       "    }\n",
       "\n",
       "    .dataframe thead th {\n",
       "        text-align: right;\n",
       "    }\n",
       "</style>\n",
       "<table border=\"1\" class=\"dataframe\">\n",
       "  <thead>\n",
       "    <tr style=\"text-align: right;\">\n",
       "      <th></th>\n",
       "      <th>0</th>\n",
       "    </tr>\n",
       "  </thead>\n",
       "  <tbody>\n",
       "    <tr>\n",
       "      <th>_id</th>\n",
       "      <td>64979bb5667ad5b134bd871f</td>\n",
       "    </tr>\n",
       "    <tr>\n",
       "      <th>FHRSID</th>\n",
       "      <td>110681</td>\n",
       "    </tr>\n",
       "    <tr>\n",
       "      <th>ChangesByServerID</th>\n",
       "      <td>0</td>\n",
       "    </tr>\n",
       "    <tr>\n",
       "      <th>LocalAuthorityBusinessID</th>\n",
       "      <td>4029</td>\n",
       "    </tr>\n",
       "    <tr>\n",
       "      <th>BusinessName</th>\n",
       "      <td>The Chase Rest Home</td>\n",
       "    </tr>\n",
       "    <tr>\n",
       "      <th>BusinessType</th>\n",
       "      <td>Caring Premises</td>\n",
       "    </tr>\n",
       "    <tr>\n",
       "      <th>BusinessTypeID</th>\n",
       "      <td>5</td>\n",
       "    </tr>\n",
       "    <tr>\n",
       "      <th>AddressLine1</th>\n",
       "      <td>5-6 Southfields Road</td>\n",
       "    </tr>\n",
       "    <tr>\n",
       "      <th>AddressLine2</th>\n",
       "      <td>Eastbourne</td>\n",
       "    </tr>\n",
       "    <tr>\n",
       "      <th>AddressLine3</th>\n",
       "      <td>East Sussex</td>\n",
       "    </tr>\n",
       "  </tbody>\n",
       "</table>\n",
       "</div>"
      ],
      "text/plain": [
       "                                                 0\n",
       "_id                       64979bb5667ad5b134bd871f\n",
       "FHRSID                                      110681\n",
       "ChangesByServerID                                0\n",
       "LocalAuthorityBusinessID                      4029\n",
       "BusinessName                   The Chase Rest Home\n",
       "BusinessType                       Caring Premises\n",
       "BusinessTypeID                                   5\n",
       "AddressLine1                  5-6 Southfields Road\n",
       "AddressLine2                            Eastbourne\n",
       "AddressLine3                           East Sussex"
      ]
     },
     "execution_count": 104,
     "metadata": {},
     "output_type": "execute_result"
    }
   ],
   "source": [
    "# Convert the result to a Pandas DataFrame\n",
    "#Creating list from keys and values in dictionary results\n",
    "inputdict = results[0]\n",
    "columns = list(inputdict.keys())\n",
    "values_list = list(inputdict.values())\n",
    "#converting list to DataFrame\n",
    "establishments_df = pd.DataFrame(values_list,columns)\n",
    "# Display the number of rows in the DataFrame\n",
    "print(f'There are {len(establishments_df.index)} rows in the DataFrame')\n",
    "print('------------------------------------------------------')\n",
    "# Display the first 10 rows of the DataFrame\n",
    "establishments_df.head(10)"
   ]
  },
  {
   "cell_type": "markdown",
   "id": "0ef4395a",
   "metadata": {},
   "source": [
    "### 2. Which establishments in London have a `RatingValue` greater than or equal to 4?"
   ]
  },
  {
   "cell_type": "code",
   "execution_count": 130,
   "id": "93c63829",
   "metadata": {},
   "outputs": [
    {
     "name": "stdout",
     "output_type": "stream",
     "text": [
      "------------------------------------------------------\n",
      "There are  33 documents in the results with London as the       Local Authority and have a RatingValue greater than or equal to 4 \n",
      "------------------------------------------------------\n",
      "Here is the first document in the results\n",
      "------------------------------------------------------\n",
      "{'AddressLine1': 'Oak Apple Farm Building 103 Sheernes Docks',\n",
      " 'AddressLine2': 'Sheppy Kent',\n",
      " 'AddressLine3': '',\n",
      " 'AddressLine4': '',\n",
      " 'BusinessName': \"Charlie's\",\n",
      " 'BusinessType': 'Other catering premises',\n",
      " 'BusinessTypeID': 7841,\n",
      " 'ChangesByServerID': 0,\n",
      " 'Distance': 4627.439467780196,\n",
      " 'FHRSID': 621707,\n",
      " 'LocalAuthorityBusinessID': 'PI/000025307',\n",
      " 'LocalAuthorityCode': '508',\n",
      " 'LocalAuthorityEmailAddress': 'publicprotection@cityoflondon.gov.uk',\n",
      " 'LocalAuthorityName': 'City of London Corporation',\n",
      " 'LocalAuthorityWebSite': 'http://www.cityoflondon.gov.uk/Corporation/homepage.htm',\n",
      " 'NewRatingPending': False,\n",
      " 'Phone': '',\n",
      " 'PostCode': 'ME12',\n",
      " 'RatingDate': '2021-10-18T00:00:00',\n",
      " 'RatingKey': 'fhrs_4_en-gb',\n",
      " 'RatingValue': 4,\n",
      " 'RightToReply': '',\n",
      " 'SchemeType': 'FHRS',\n",
      " '_id': ObjectId('64979bb6667ad5b134bda13b'),\n",
      " 'geocode': {'latitude': 51.369321, 'longitude': 0.508551},\n",
      " 'links': [{'href': 'https://api.ratings.food.gov.uk/establishments/621707',\n",
      "            'rel': 'self'}],\n",
      " 'meta': {'dataSource': None,\n",
      "          'extractDate': '0001-01-01T00:00:00',\n",
      "          'itemCount': 0,\n",
      "          'pageNumber': 0,\n",
      "          'pageSize': 0,\n",
      "          'returncode': None,\n",
      "          'totalCount': 0,\n",
      "          'totalPages': 0},\n",
      " 'scores': {'ConfidenceInManagement': 5, 'Hygiene': 5, 'Structural': 10}}\n"
     ]
    }
   ],
   "source": [
    "# Find the establishments with London as the Local Authority and has a RatingValue greater than or equal to 4.\n",
    "query_02 = {'LocalAuthorityName': 'City of London Corporation','RatingValue':{'$gte':4}}\n",
    "results_02 = establishments.find(query)\n",
    "\n",
    "\n",
    "# Use count_documents to display the number of documents in the result\n",
    "print('------------------------------------------------------')\n",
    "\n",
    "print(f'There are  {establishments.count_documents(query_02)} documents in the results with London as the \\\n",
    "      Local Authority and have a RatingValue greater than or equal to 4 ')\n",
    "\n",
    "print('------------------------------------------------------')\n",
    "# Display the first document in the results using pprint\n",
    "print('Here is the first document in the results')\n",
    "print('------------------------------------------------------')\n",
    "pprint(results_02[0])"
   ]
  },
  {
   "cell_type": "code",
   "execution_count": 133,
   "id": "07e24ccb",
   "metadata": {},
   "outputs": [
    {
     "name": "stdout",
     "output_type": "stream",
     "text": [
      "There are 28 rows in the DataFrame\n",
      "------------------------------------------------------\n"
     ]
    },
    {
     "data": {
      "text/html": [
       "<div>\n",
       "<style scoped>\n",
       "    .dataframe tbody tr th:only-of-type {\n",
       "        vertical-align: middle;\n",
       "    }\n",
       "\n",
       "    .dataframe tbody tr th {\n",
       "        vertical-align: top;\n",
       "    }\n",
       "\n",
       "    .dataframe thead th {\n",
       "        text-align: right;\n",
       "    }\n",
       "</style>\n",
       "<table border=\"1\" class=\"dataframe\">\n",
       "  <thead>\n",
       "    <tr style=\"text-align: right;\">\n",
       "      <th></th>\n",
       "      <th>0</th>\n",
       "    </tr>\n",
       "  </thead>\n",
       "  <tbody>\n",
       "    <tr>\n",
       "      <th>_id</th>\n",
       "      <td>64979bb6667ad5b134bda13b</td>\n",
       "    </tr>\n",
       "    <tr>\n",
       "      <th>FHRSID</th>\n",
       "      <td>621707</td>\n",
       "    </tr>\n",
       "    <tr>\n",
       "      <th>ChangesByServerID</th>\n",
       "      <td>0</td>\n",
       "    </tr>\n",
       "    <tr>\n",
       "      <th>LocalAuthorityBusinessID</th>\n",
       "      <td>PI/000025307</td>\n",
       "    </tr>\n",
       "    <tr>\n",
       "      <th>BusinessName</th>\n",
       "      <td>Charlie's</td>\n",
       "    </tr>\n",
       "    <tr>\n",
       "      <th>BusinessType</th>\n",
       "      <td>Other catering premises</td>\n",
       "    </tr>\n",
       "    <tr>\n",
       "      <th>BusinessTypeID</th>\n",
       "      <td>7841</td>\n",
       "    </tr>\n",
       "    <tr>\n",
       "      <th>AddressLine1</th>\n",
       "      <td>Oak Apple Farm Building 103 Sheernes Docks</td>\n",
       "    </tr>\n",
       "    <tr>\n",
       "      <th>AddressLine2</th>\n",
       "      <td>Sheppy Kent</td>\n",
       "    </tr>\n",
       "    <tr>\n",
       "      <th>AddressLine3</th>\n",
       "      <td></td>\n",
       "    </tr>\n",
       "  </tbody>\n",
       "</table>\n",
       "</div>"
      ],
      "text/plain": [
       "                                                                   0\n",
       "_id                                         64979bb6667ad5b134bda13b\n",
       "FHRSID                                                        621707\n",
       "ChangesByServerID                                                  0\n",
       "LocalAuthorityBusinessID                                PI/000025307\n",
       "BusinessName                                               Charlie's\n",
       "BusinessType                                 Other catering premises\n",
       "BusinessTypeID                                                  7841\n",
       "AddressLine1              Oak Apple Farm Building 103 Sheernes Docks\n",
       "AddressLine2                                             Sheppy Kent\n",
       "AddressLine3                                                        "
      ]
     },
     "execution_count": 133,
     "metadata": {},
     "output_type": "execute_result"
    }
   ],
   "source": [
    "# Convert the result to a Pandas DataFrame\n",
    "#Creating list from keys and values in dictionary results\n",
    "inputdict_02 = results_02[0]\n",
    "columns_02 = list(inputdict.keys())\n",
    "values_list_02 = list(inputdict_02.values())\n",
    "#converting list to DataFrame\n",
    "establishments_df_02 = pd.DataFrame(values_list_02,columns_02)\n",
    "\n",
    "# Display the number of rows in the DataFrame\n",
    "print(f'There are {len(establishments_df_02.index)} rows in the DataFrame')\n",
    "print('------------------------------------------------------')\n",
    "# Display the first 10 rows of the DataFrame\n",
    "establishments_df_02.head(10)"
   ]
  },
  {
   "cell_type": "markdown",
   "id": "4e570caf",
   "metadata": {},
   "source": [
    "### 3. What are the top 5 establishments with a `RatingValue` rating value of 5, sorted by lowest hygiene score, nearest to the new restaurant added, \"Penang Flavours\"?"
   ]
  },
  {
   "cell_type": "code",
   "execution_count": null,
   "id": "7f599f3d",
   "metadata": {},
   "outputs": [],
   "source": [
    "# Search within 0.01 degree on either side of the latitude and longitude.\n",
    "# Rating value must equal 5\n",
    "# Sort by hygiene score\n",
    "\n",
    "degree_search = 0.01\n",
    "latitude = \n",
    "longitude = \n",
    "\n",
    "query = \n",
    "sort =  \n",
    "\n",
    "# Print the results\n"
   ]
  },
  {
   "cell_type": "code",
   "execution_count": null,
   "id": "a6ad16f7",
   "metadata": {},
   "outputs": [],
   "source": [
    "# Convert result to Pandas DataFrame\n"
   ]
  },
  {
   "cell_type": "markdown",
   "id": "67281254",
   "metadata": {},
   "source": [
    "### 4. How many establishments in each Local Authority area have a hygiene score of 0?"
   ]
  },
  {
   "cell_type": "code",
   "execution_count": null,
   "id": "4eeb227e",
   "metadata": {},
   "outputs": [],
   "source": [
    "# Create a pipeline that: \n",
    "# 1. Matches establishments with a hygiene score of 0\n",
    "# 2. Groups the matches by Local Authority\n",
    "# 3. Sorts the matches from highest to lowest\n",
    "\n",
    "# Print the number of documents in the result\n",
    "\n",
    "# Print the first 10 results\n"
   ]
  },
  {
   "cell_type": "code",
   "execution_count": null,
   "id": "d8aab364",
   "metadata": {},
   "outputs": [],
   "source": [
    "# Convert the result to a Pandas DataFrame\n",
    "\n",
    "# Display the number of rows in the DataFrame\n",
    "\n",
    "# Display the first 10 rows of the DataFrame\n"
   ]
  }
 ],
 "metadata": {
  "kernelspec": {
   "display_name": "Python 3 (ipykernel)",
   "language": "python",
   "name": "python3"
  },
  "language_info": {
   "codemirror_mode": {
    "name": "ipython",
    "version": 3
   },
   "file_extension": ".py",
   "mimetype": "text/x-python",
   "name": "python",
   "nbconvert_exporter": "python",
   "pygments_lexer": "ipython3",
   "version": "3.10.9"
  }
 },
 "nbformat": 4,
 "nbformat_minor": 5
}
